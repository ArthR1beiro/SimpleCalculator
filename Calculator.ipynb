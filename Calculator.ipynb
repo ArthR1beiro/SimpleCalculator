{
 "cells": [
  {
   "cell_type": "markdown",
   "id": "05c09c80-b42b-4467-9a81-547221f39b7b",
   "metadata": {},
   "source": [
    "## Calculator"
   ]
  },
  {
   "cell_type": "code",
   "execution_count": 1,
   "id": "725f239d-ed09-4551-b68c-b33a8f6e9d0d",
   "metadata": {},
   "outputs": [
    {
     "name": "stdout",
     "output_type": "stream",
     "text": [
      "coloque o primeiro numero:  7\n",
      "coloque o segundo numero:  8\n"
     ]
    }
   ],
   "source": [
    "a = int(input(\"coloque o primeiro numero: \"))\n",
    "b = int(input(\"coloque o segundo numero: \"))"
   ]
  },
  {
   "cell_type": "code",
   "execution_count": 6,
   "id": "a2527cfb-042f-4768-8888-a5a7485a45a8",
   "metadata": {},
   "outputs": [
    {
     "name": "stdout",
     "output_type": "stream",
     "text": [
      "coloque o primeiro numero:  1\n",
      "coloque o segundo numero:  1\n"
     ]
    },
    {
     "name": "stdout",
     "output_type": "stream",
     "text": [
      "\n",
      "Calculadora simples\n",
      "===================\n",
      "A = 1\n",
      "B = 1\n",
      " \n",
      "1 plus 1 = 2\n",
      "1 minus 1 = 0\n",
      "1 times 1 = 1\n",
      "1 divided by 1 = 1.0\n",
      "1 Remainder after division 1 = 0\n"
     ]
    }
   ],
   "source": [
    "a = int(input(\"Enter the first number: \"))\n",
    "b = int(input(\"enter the sencond number: \"))\n",
    "print(\"\\nSimple Calculator\")\n",
    "print(\"===================\")\n",
    "print(\"A =\",a)\n",
    "print(\"B =\",b)\n",
    "print(\" \")\n",
    "print(a,\"plus\", b, \"=\" ,a+b)\n",
    "print(a,\"minus\", b, \"=\" ,a-b)\n",
    "print(a,\"times\", b, \"=\" ,a*b)\n",
    "print(a,\"divided by\", b, \"=\" ,a/b)\n",
    "print(a,\"Remainder after division\", b, \"=\" ,a%b)"
   ]
  },
  {
   "cell_type": "code",
   "execution_count": null,
   "id": "5e3f6034-2d82-4c39-a2db-e7f5c8bc03da",
   "metadata": {},
   "outputs": [],
   "source": []
  }
 ],
 "metadata": {
  "kernelspec": {
   "display_name": "Python 3 (ipykernel)",
   "language": "python",
   "name": "python3"
  },
  "language_info": {
   "codemirror_mode": {
    "name": "ipython",
    "version": 3
   },
   "file_extension": ".py",
   "mimetype": "text/x-python",
   "name": "python",
   "nbconvert_exporter": "python",
   "pygments_lexer": "ipython3",
   "version": "3.9.7"
  }
 },
 "nbformat": 4,
 "nbformat_minor": 5
}
